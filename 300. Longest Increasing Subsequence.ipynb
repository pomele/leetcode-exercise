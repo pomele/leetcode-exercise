{
 "cells": [
  {
   "cell_type": "code",
   "execution_count": 9,
   "metadata": {},
   "outputs": [
    {
     "name": "stdout",
     "output_type": "stream",
     "text": [
      "6\n"
     ]
    }
   ],
   "source": [
    "# 递增序列，等号不可以\n",
    "# 1.tail的最小值大于nums[i]，更新tail[0]\n",
    "# 2.tail的最大值小于nums[i], append\n",
    "# 3.taile[0] < nums[i] < tail[len(tail)] 找到位置，添加\n",
    "\n",
    "# attention：tail的长度是最终长度，但tail并不是最终的递增子串\n",
    "\n",
    "nums = [10,9,2,5,3,7,101,102,18,103]\n",
    "if len(nums) == 0:\n",
    "            return 0\n",
    "        tail = []\n",
    "        tail.append(nums[0])\n",
    "        for i in range(1, len(nums)):\n",
    "            if(nums[i] < tail[0]):\n",
    "                tail[0] = nums[i]\n",
    "            elif nums[i] > tail[len(tail) - 1]:\n",
    "                tail.append(nums[i])\n",
    "            else:\n",
    "                l = 0\n",
    "                r = len(tail) - 1\n",
    "                while(l < r):\n",
    "                    mid = int((l + r) / 2)\n",
    "                    if tail[mid] < nums[i]:\n",
    "                        l = mid + 1\n",
    "                    else:\n",
    "                        r = mid\n",
    "                tail[r] = nums[i]\n",
    "        return(len(tail))"
   ]
  },
  {
   "cell_type": "code",
   "execution_count": null,
   "metadata": {},
   "outputs": [],
   "source": []
  }
 ],
 "metadata": {
  "kernelspec": {
   "display_name": "Python 3",
   "language": "python",
   "name": "python3"
  },
  "language_info": {
   "codemirror_mode": {
    "name": "ipython",
    "version": 3
   },
   "file_extension": ".py",
   "mimetype": "text/x-python",
   "name": "python",
   "nbconvert_exporter": "python",
   "pygments_lexer": "ipython3",
   "version": "3.7.1"
  }
 },
 "nbformat": 4,
 "nbformat_minor": 2
}
