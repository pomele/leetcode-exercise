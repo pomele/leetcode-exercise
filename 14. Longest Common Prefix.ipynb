{
 "cells": [
  {
   "cell_type": "code",
   "execution_count": null,
   "metadata": {},
   "outputs": [],
   "source": [
    "class Solution:\n",
    "    def longestCommonPrefix(self, strs):\n",
    "        \"\"\"\n",
    "        :type strs: List[str]\n",
    "        :rtype: str\n",
    "        \"\"\"\n",
    "        # strs = [\"dog\",\"racecar\",\"car\"]\n",
    "        flag = 1\n",
    "        number = 0\n",
    "        while (flag):\n",
    "            for key in strs:\n",
    "                if (strs[0][number] != key[number]):\n",
    "                    flag = 0\n",
    "                    break\n",
    "            if (flag == 1):\n",
    "                number += 1\n",
    "\n",
    "        if (number == 0):\n",
    "            return \"\"\n",
    "        else:\n",
    "            return strs[0][:number]\n",
    "    \n",
    "\n",
    "        "
   ]
  }
 ],
 "metadata": {
  "kernelspec": {
   "display_name": "Python 3",
   "language": "python",
   "name": "python3"
  },
  "language_info": {
   "codemirror_mode": {
    "name": "ipython",
    "version": 3
   },
   "file_extension": ".py",
   "mimetype": "text/x-python",
   "name": "python",
   "nbconvert_exporter": "python",
   "pygments_lexer": "ipython3",
   "version": "3.6.5"
  }
 },
 "nbformat": 4,
 "nbformat_minor": 2
}
