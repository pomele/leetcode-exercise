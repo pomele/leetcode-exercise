{
 "cells": [
  {
   "cell_type": "code",
   "execution_count": 17,
   "metadata": {},
   "outputs": [
    {
     "name": "stdout",
     "output_type": "stream",
     "text": [
      "0\n",
      "0\n",
      "-------------------------\n",
      "0\n",
      "1\n",
      "-------------------------\n",
      "2\n",
      "2\n",
      "-------------------------\n",
      "2\n",
      "3\n",
      "-------------------------\n",
      "2\n"
     ]
    }
   ],
   "source": [
    "s = \"abba\"\n",
    "left = 0\n",
    "right = 0\n",
    "mapp = {}\n",
    "maxx = 0\n",
    "for i in range(0,len(s)):\n",
    "    right = i\n",
    "    if s[i] in mapp and  mapp[s[i]] >= left:\n",
    "        left = mapp[s[i]] + 1\n",
    "        mapp[s[i]] = i\n",
    "    else:\n",
    "        mapp[s[i]] = i\n",
    "    maxx = max(maxx, right - left + 1)\n",
    "    print(left)\n",
    "    print(right)\n",
    "    print('-------------------------')\n",
    "print(maxx)\n"
   ]
  },
  {
   "cell_type": "code",
   "execution_count": null,
   "metadata": {},
   "outputs": [],
   "source": []
  }
 ],
 "metadata": {
  "kernelspec": {
   "display_name": "Python 3",
   "language": "python",
   "name": "python3"
  },
  "language_info": {
   "codemirror_mode": {
    "name": "ipython",
    "version": 3
   },
   "file_extension": ".py",
   "mimetype": "text/x-python",
   "name": "python",
   "nbconvert_exporter": "python",
   "pygments_lexer": "ipython3",
   "version": "3.6.5"
  }
 },
 "nbformat": 4,
 "nbformat_minor": 2
}
