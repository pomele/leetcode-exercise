{
 "cells": [
  {
   "cell_type": "code",
   "execution_count": 13,
   "metadata": {},
   "outputs": [
    {
     "name": "stdout",
     "output_type": "stream",
     "text": [
      "9\n"
     ]
    }
   ],
   "source": [
    "tokens = [\"2\", \"1\", \"+\", \"3\", \"*\"]\n",
    "symbol = [\"+\", \"-\", \"*\", \"/\"]\n",
    "stack = []\n",
    "for key in tokens:\n",
    "    if key not in symbol:\n",
    "        stack.append(key)\n",
    "    elif symbol.index(key) == 0:\n",
    "        result = int(stack[len(stack)-1]) + int(stack[len(stack)-2])\n",
    "        stack[len(stack)-2] = result\n",
    "        stack.pop()\n",
    "    elif symbol.index(key) == 1:\n",
    "        result = int(stack[len(stack)-2]) - int(stack[len(stack)-1])\n",
    "        stack[len(stack)-2] = result\n",
    "        stack.pop()\n",
    "    elif symbol.index(key) == 2:\n",
    "        result = int(stack[len(stack)-1]) * int(stack[len(stack)-2])\n",
    "        stack[len(stack)-2] = result\n",
    "        stack.pop()\n",
    "    else:\n",
    "        result = int(stack[len(stack)-2]) / int(stack[len(stack)-1])\n",
    "        stack[len(stack)-2] = result\n",
    "        stack.pop()\n",
    "print(stack[0])"
   ]
  },
  {
   "cell_type": "code",
   "execution_count": null,
   "metadata": {},
   "outputs": [],
   "source": []
  }
 ],
 "metadata": {
  "kernelspec": {
   "display_name": "Python 3",
   "language": "python",
   "name": "python3"
  },
  "language_info": {
   "codemirror_mode": {
    "name": "ipython",
    "version": 3
   },
   "file_extension": ".py",
   "mimetype": "text/x-python",
   "name": "python",
   "nbconvert_exporter": "python",
   "pygments_lexer": "ipython3",
   "version": "3.6.5"
  }
 },
 "nbformat": 4,
 "nbformat_minor": 2
}
