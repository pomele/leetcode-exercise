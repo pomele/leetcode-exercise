{
 "cells": [
  {
   "cell_type": "code",
   "execution_count": 3,
   "metadata": {},
   "outputs": [
    {
     "ename": "IndentationError",
     "evalue": "expected an indented block (<ipython-input-3-84f0763aa6cd>, line 28)",
     "output_type": "error",
     "traceback": [
      "\u001b[0;36m  File \u001b[0;32m\"<ipython-input-3-84f0763aa6cd>\"\u001b[0;36m, line \u001b[0;32m28\u001b[0m\n\u001b[0;31m    return -1\u001b[0m\n\u001b[0m             ^\u001b[0m\n\u001b[0;31mIndentationError\u001b[0m\u001b[0;31m:\u001b[0m expected an indented block\n"
     ]
    }
   ],
   "source": [
    "class Solution(object):\n",
    "    def canCompleteCircuit(self, gas, cost):\n",
    "        \"\"\"\n",
    "        :type gas: List[int]\n",
    "        :type cost: List[int]\n",
    "        :rtype: int\n",
    "        \"\"\"\n",
    "        n = -1\n",
    "        for i in range(0, len(gas)):\n",
    "            if gas[i] >= cost[i]:\n",
    "                sum = gas[i] - cost[i]\n",
    "                if i == len(gas) - 1:\n",
    "                    sum += gas[0]\n",
    "                else:\n",
    "                    sum += gas[i+1]\n",
    "                n = i\n",
    "                i += 1\n",
    "                if i == len(gas):\n",
    "                    i = 0\n",
    "                while i != n:\n",
    "                    if sum >= cost[i]:\n",
    "                        if (i + 1) != len(gas):\n",
    "                            sum = sum - cost[i] + gas[i+1]\n",
    "                        else:\n",
    "                            sum = sum - cost[i] + gas[0]\n",
    "                    else:\n",
    "                        n = -1\n",
    "                        break\n",
    "                    i += 1\n",
    "                    if i == len(gas):\n",
    "                        i = 0    \n",
    "            if n != -1:\n",
    "                    break\n",
    "        return n"
   ]
  },
  {
   "cell_type": "code",
   "execution_count": null,
   "metadata": {},
   "outputs": [],
   "source": []
  }
 ],
 "metadata": {
  "kernelspec": {
   "display_name": "Python 3",
   "language": "python",
   "name": "python3"
  },
  "language_info": {
   "codemirror_mode": {
    "name": "ipython",
    "version": 3
   },
   "file_extension": ".py",
   "mimetype": "text/x-python",
   "name": "python",
   "nbconvert_exporter": "python",
   "pygments_lexer": "ipython3",
   "version": "3.7.1"
  }
 },
 "nbformat": 4,
 "nbformat_minor": 2
}
